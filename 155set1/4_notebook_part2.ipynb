{
 "cells": [
  {
   "cell_type": "markdown",
   "metadata": {},
   "source": [
    "# Problem 4, Parts F-H: Stochastic Gradient Descent with a Larger Dataset"
   ]
  },
  {
   "cell_type": "markdown",
   "metadata": {},
   "source": [
    "Use this notebook to write your code for problem 4 parts F-H by filling in the sections marked `# TODO` and running all cells."
   ]
  },
  {
   "cell_type": "code",
   "execution_count": 1,
   "metadata": {},
   "outputs": [],
   "source": [
    "# Setup.\n",
    "\n",
    "import numpy as np\n",
    "import matplotlib.pyplot as plt\n",
    "\n",
    "%matplotlib inline"
   ]
  },
  {
   "cell_type": "markdown",
   "metadata": {},
   "source": [
    "## Problem 4F: Perform SGD with the new dataset"
   ]
  },
  {
   "cell_type": "markdown",
   "metadata": {},
   "source": [
    "For the functions below, you may re-use your code from parts 4C-E. Note that you can now modify your SGD function to return the final weight vector instead of the weights after every epoch."
   ]
  },
  {
   "cell_type": "code",
   "execution_count": 15,
   "metadata": {},
   "outputs": [],
   "source": [
    "def loss(X, Y, w):\n",
    "    '''\n",
    "    Calculate the squared loss function.\n",
    "    \n",
    "    Inputs:\n",
    "        X: A (N, D) shaped numpy array containing the data points.\n",
    "        Y: A (N, ) shaped numpy array containing the (float) labels of the data points.\n",
    "        w: A (D, ) shaped numpy array containing the weight vector.\n",
    "    \n",
    "    Outputs:\n",
    "        The loss evaluated with respect to X, Y, and w.\n",
    "    '''\n",
    "    \n",
    "    loss = 0\n",
    "    for i in range(len(X)):\n",
    "        loss += (Y[i] - np.dot(w.T, X[i]))**2\n",
    "    \n",
    "    return loss / len(X)\n",
    "\n",
    "def gradient(x, y, w):\n",
    "    '''\n",
    "    Calculate the gradient of the loss function with respect to\n",
    "    a single point (x, y), and using weight vector w.\n",
    "    \n",
    "    Inputs:\n",
    "        x: A (D, ) shaped numpy array containing a single data point.\n",
    "        y: The float label for the data point.\n",
    "        w: A (D, ) shaped numpy array containing the weight vector.\n",
    "        \n",
    "    Output:\n",
    "        The gradient of the loss with respect to x, y, and w. \n",
    "    '''\n",
    "    \n",
    "    gradient = -2 * x * (y - np.dot(w.T, x))   \n",
    "    \n",
    "    return gradient  \n",
    "\n",
    "def SGD(X, Y, w_start, eta, N_epochs):\n",
    "    '''\n",
    "    Perform SGD using dataset (X, Y), initial weight vector w_start,\n",
    "    learning rate eta, and N_epochs epochs.\n",
    "    \n",
    "    Inputs:\n",
    "        X: A (N, D) shaped numpy array containing the data points.\n",
    "        Y: A (N, ) shaped numpy array containing the (float) labels of the data points.\n",
    "        w_start:  A (D, ) shaped numpy array containing the weight vector initialization.\n",
    "        eta: The step size.\n",
    "        N_epochs: The number of epochs (iterations) to run SGD.\n",
    "        \n",
    "    Outputs:\n",
    "        w: A (D, ) shaped array containing the final weight vector.\n",
    "        losses: A (N_epochs, ) shaped array containing the losses from all iterations.\n",
    "    '''\n",
    "    losses = []\n",
    "    w = np.copy(w_start)\n",
    "    for i in range(N_epochs):\n",
    "        order = np.random.permutation(len(X))\n",
    "        losses.append(loss(X, Y, w))\n",
    "        for j in range(len(X)):\n",
    "            ind = order[j]\n",
    "            w -= eta * gradient(X[ind], Y[ind], w)\n",
    "    return w, losses   "
   ]
  },
  {
   "cell_type": "markdown",
   "metadata": {},
   "source": [
    "Next, we need to load the dataset. In doing so, the following function may be helpful:"
   ]
  },
  {
   "cell_type": "code",
   "execution_count": 3,
   "metadata": {},
   "outputs": [],
   "source": [
    "def load_data(filename):\n",
    "    \"\"\"\n",
    "    Function loads data stored in the file filename and returns it as a numpy ndarray.\n",
    "    \n",
    "    Inputs:\n",
    "        filename: GeneratorExitiven as a string.\n",
    "    \n",
    "    Outputs:\n",
    "        Data contained in the file, returned as a numpy ndarray\n",
    "    \"\"\"\n",
    "    return np.loadtxt(filename, skiprows=1, delimiter=',')"
   ]
  },
  {
   "cell_type": "markdown",
   "metadata": {},
   "source": [
    "Now, load the dataset in `sgd_data.csv` and run SGD using the given parameters; print out the final weights."
   ]
  },
  {
   "cell_type": "code",
   "execution_count": 26,
   "metadata": {},
   "outputs": [
    {
     "data": {
      "text/plain": [
       "array([ -0.22788743,  -5.97854985,   3.98837527, -11.85702112,\n",
       "         8.91128265])"
      ]
     },
     "execution_count": 26,
     "metadata": {},
     "output_type": "execute_result"
    }
   ],
   "source": [
    "#==============================================\n",
    "# TODO:\n",
    "# (1) load the dataset\n",
    "# (2) run SGD using the given parameters\n",
    "# (3) print out the final weights.\n",
    "#==============================================\n",
    "data = load_data('data/sgd_data.csv')\n",
    "x = []\n",
    "y = []\n",
    "for i in range(len(data)):\n",
    "    no_bias = data[i][:4]\n",
    "    with_bias = np.insert(no_bias, 0, 1)\n",
    "    x.append(with_bias)\n",
    "    y.append(data[i][4])\n",
    "w_start = [0.001, 0.001, 0.001, 0.001, 0.001]\n",
    "N_epochs = 1000\n",
    "eta = np.exp(-15)\n",
    "descent = SGD(x, y, w_start, eta, N_epochs)\n",
    "descent[0]"
   ]
  },
  {
   "cell_type": "markdown",
   "metadata": {},
   "source": [
    "## Problem 4G: Convergence of SGD"
   ]
  },
  {
   "cell_type": "markdown",
   "metadata": {},
   "source": [
    "This problem examines the convergence of SGD for different learning rates. Please implement your code in the cell below:"
   ]
  },
  {
   "cell_type": "code",
   "execution_count": 27,
   "metadata": {},
   "outputs": [
    {
     "data": {
      "image/png": "[encoded data removed]",
      "text/plain": [
       "<Figure size 432x288 with 1 Axes>"
      ]
     },
     "metadata": {},
     "output_type": "display_data"
    }
   ],
   "source": [
    "#==============================================\n",
    "# TODO: create a plot showing the convergence\n",
    "# of SGD for the different learning rates.\n",
    "#==============================================\n",
    "epochs = np.linspace(1, 1000, 800)\n",
    "eta_vals = [np.exp(-10), np.exp(-11), np.exp(-12), np.exp(-13), np.exp(-14), np.exp(-15)]\n",
    "w_start = [0.001, 0.001, 0.001, 0.001, 0.001]\n",
    "N_epochs = 800\n",
    "plt.figure()\n",
    "plt.xlim(right = 800)\n",
    "for i in range(6):\n",
    "    graphs = SGD(x, y, w_start, eta_vals[i], N_epochs)\n",
    "    plt.plot(epochs, graphs[1], linewidth = 1)\n",
    "plt.legend(['np.exp(-10)', 'np.exp(-11)', 'np.exp(-12)', 'np.exp(-13)', 'np.exp(-14)', 'np.exp(-15)'], loc = 'best')\n",
    "plt.xlabel('epochs')\n",
    "plt.ylabel('training error')\n",
    "plt.title('eta losses')\n",
    "plt.show()"
   ]
  },
  {
   "cell_type": "markdown",
   "metadata": {},
   "source": [
    "## Problem 4H"
   ]
  },
  {
   "cell_type": "markdown",
   "metadata": {},
   "source": [
    "Provide your code for computing the least-squares analytical solution below."
   ]
  },
  {
   "cell_type": "code",
   "execution_count": 38,
   "metadata": {},
   "outputs": [
    {
     "data": {
      "text/plain": [
       "array([ -0.31644251,  -5.99157048,   4.01509955, -11.93325972,\n",
       "         8.99061096])"
      ]
     },
     "execution_count": 38,
     "metadata": {},
     "output_type": "execute_result"
    }
   ],
   "source": [
    "#==============================================\n",
    "# TODO: implement the least-squares\n",
    "# analytical solution.\n",
    "#==============================================\n",
    "np.dot(np.linalg.pinv(x), y)"
   ]
  },
  {
   "cell_type": "code",
   "execution_count": null,
   "metadata": {},
   "outputs": [],
   "source": []
  }
 ],
 "metadata": {
  "anaconda-cloud": {},
  "kernelspec": {
   "display_name": "Python 3",
   "language": "python",
   "name": "python3"
  },
  "language_info": {
   "codemirror_mode": {
    "name": "ipython",
    "version": 3
   },
   "file_extension": ".py",
   "mimetype": "text/x-python",
   "name": "python",
   "nbconvert_exporter": "python",
   "pygments_lexer": "ipython3",
   "version": "3.6.5"
  }
 },
 "nbformat": 4,
 "nbformat_minor": 1
}

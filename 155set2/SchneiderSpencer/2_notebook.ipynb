{
 "cells": [
  {
   "cell_type": "markdown",
   "metadata": {},
   "source": [
    "# Problem 2"
   ]
  },
  {
   "cell_type": "markdown",
   "metadata": {},
   "source": [
    "Use this notebook to write your code for problem 2. You may reuse your SGD code from last week."
   ]
  },
  {
   "cell_type": "code",
   "execution_count": 186,
   "metadata": {},
   "outputs": [],
   "source": [
    "import random\n",
    "import numpy.linalg as LA\n",
    "import numpy as np\n",
    "import matplotlib.pyplot as plt\n",
    "%matplotlib inline"
   ]
  },
  {
   "cell_type": "markdown",
   "metadata": {},
   "source": [
    "The following function may be useful for loading the necessary data."
   ]
  },
  {
   "cell_type": "code",
   "execution_count": 54,
   "metadata": {},
   "outputs": [],
   "source": [
    "def load_data(filename):\n",
    "    \"\"\"\n",
    "    Function loads data stored in the file filename and returns it as a numpy ndarray.\n",
    "    \n",
    "    Inputs:\n",
    "        filename: given as a string.\n",
    "        \n",
    "    Outputs:\n",
    "        Data contained in the file, returned as a numpy ndarray\n",
    "    \"\"\"\n",
    "    return np.loadtxt(filename, skiprows=1, delimiter=',')"
   ]
  },
  {
   "cell_type": "code",
   "execution_count": 191,
   "metadata": {},
   "outputs": [],
   "source": [
    "# load data\n",
    "train1 = load_data('data/wine_training1.txt')\n",
    "train2 = load_data('data/wine_training2.txt')\n",
    "test1 = load_data('data/wine_testing.txt')\n",
    "test2 = load_data('data/wine_testing.txt')\n",
    "\n",
    "test_X1 = test1[:, 1:]\n",
    "#insert bias\n",
    "test_X1 = np.insert(test_X1, 0, 1, axis = 1)\n",
    "test_Y1 = test1[:, 0]\n",
    "\n",
    "test_X2 = test2[:, 1:]\n",
    "#insert bias\n",
    "test_X2 = np.insert(test_X2, 0, 1, axis = 1)\n",
    "test_Y2 = test2[:, 0]\n",
    "\n",
    "# normalize the data\n",
    "X1 = train1[:, 1:]\n",
    "X1 = np.insert(X1, 0, 1, axis = 1)\n",
    "for j in range(1, len(X1[0])):\n",
    "    mean = np.mean(X1[:, j])\n",
    "    std = np.std(X1[:, j])\n",
    "    for i in range(len(X1)):\n",
    "        X1[i][j] = (X1[i][j] - mean) / std\n",
    "    for k in range(len(test_X1)):\n",
    "        test_X1[k][j] = (test_X1[k][j] - mean) / std\n",
    "Y1 = train1[:, 0]\n",
    "\n",
    "X2 = train2[:, 1:]\n",
    "X2 = np.insert(X2, 0, 1, axis = 1)\n",
    "for j in range(1, len(X2[0])):\n",
    "    mean = np.mean(X2[:, j])\n",
    "    std = np.std(X2[:, j])\n",
    "    for i in range(len(X2)):\n",
    "        X2[i][j] = (X2[i][j] - mean) / std\n",
    "    for k in range(len(test_X2)):\n",
    "        test_X2[k][j] = (test_X2[k][j] - mean) / std\n",
    "Y2 = train2[:, 0]"
   ]
  },
  {
   "cell_type": "code",
   "execution_count": null,
   "metadata": {},
   "outputs": [],
   "source": []
  },
  {
   "cell_type": "code",
   "execution_count": 249,
   "metadata": {},
   "outputs": [],
   "source": [
    "def log_loss(X, Y, w):\n",
    "    '''\n",
    "    Calculate the log loss function.\n",
    "    \n",
    "    Inputs:\n",
    "        X: A (N, D) shaped numpy array containing the data points.\n",
    "        Y: A (N, ) shaped numpy array containing the (float) labels of the data points.\n",
    "        w: A (D, ) shaped numpy array containing the weight vector.\n",
    "    \n",
    "    Outputs:\n",
    "        The loss evaluated with respect to X, Y, and w.\n",
    "    '''\n",
    "    \n",
    "    loss = 0\n",
    "    for i in range(len(X)):\n",
    "        loss += -np.log(1 / (1 + np.exp(-Y[i] * np.dot(w, X[i]))))\n",
    "    \n",
    "    return loss / len(X)\n",
    "\n",
    "def gradient(x, y, w, lam, N):\n",
    "    '''\n",
    "    Calculate the gradient of the loss function with respect to\n",
    "    a single point (x, y), and using weight vector w.\n",
    "    \n",
    "    Inputs:\n",
    "        x: A (D, ) shaped numpy array containing a single data point.\n",
    "        y: The float label for the data point.\n",
    "        w: A (D, ) shaped numpy array containing the weight vector.\n",
    "        lam: regularization strength\n",
    "        N: number of points\n",
    "        \n",
    "    Output:\n",
    "        The gradient of the loss with respect to x, y, and w. \n",
    "    '''\n",
    "    \n",
    "    gradient = (-x * y / (1 + np.exp(y * np.dot(w, x)))) + ((2 * lam * w) / N)\n",
    "    \n",
    "    return gradient  \n",
    "\n",
    "def SGD(X, Y, eta, N_epochs, lam):\n",
    "    '''\n",
    "    Perform SGD using dataset (X, Y), initial weight vector w_start,\n",
    "    learning rate eta, and N_epochs epochs.\n",
    "    \n",
    "    Inputs:\n",
    "        X: A (N, D) shaped numpy array containing the data points.\n",
    "        Y: A (N, ) shaped numpy array containing the (float) labels of the data points.\n",
    "        eta: The step size.\n",
    "        N_epochs: The number of epochs (iterations) to run SGD.\n",
    "        lam: regularization strength\n",
    "        \n",
    "    Outputs:\n",
    "        w: A (D, ) shaped array containing the final weight vector.\n",
    "    '''\n",
    "\n",
    "\n",
    "    w  = np.random.random(len(X[0]))\n",
    "    for i in range(N_epochs):\n",
    "        for j in np.random.permutation(len(X)):\n",
    "            w -= eta * gradient(X[j], Y[j], w, lam, len(X))\n",
    "    return w"
   ]
  },
  {
   "cell_type": "code",
   "execution_count": 250,
   "metadata": {},
   "outputs": [],
   "source": [
    "# getting the desired lambdas \n",
    "lam = [0] * 15\n",
    "lam[0] = 0.00001\n",
    "for i in range(1, len(lam)):\n",
    "    lam[i] = lam[i - 1] * 5"
   ]
  },
  {
   "cell_type": "code",
   "execution_count": 251,
   "metadata": {},
   "outputs": [
    {
     "data": {
      "image/png": "[encoded data removed]",
      "text/plain": [
       "<Figure size 432x288 with 1 Axes>"
      ]
     },
     "metadata": {},
     "output_type": "display_data"
    }
   ],
   "source": [
    "plt.figure()\n",
    "# lis of training errors\n",
    "wine1 = []\n",
    "wine2 = []\n",
    "# list of testing errors\n",
    "test_wine1 = []\n",
    "test_wine2 = []\n",
    "# list of norms\n",
    "norm1 = []\n",
    "norm2 = []\n",
    "eta = 5e-4\n",
    "N_epochs = 20000\n",
    "for i in range(15):\n",
    "    # run gradient descent\n",
    "    d1 = SGD(X1, Y1, eta, N_epochs, lam[i])\n",
    "    # append to lists\n",
    "    wine1.append(log_loss(X1, Y1, d1))\n",
    "    test_wine1.append(log_loss(test_X1, test_Y1, d1))\n",
    "    norm1.append(LA.norm(d1))\n",
    "for i in range(15):\n",
    "    #run gradient descent with other data set\n",
    "    d2 = SGD(X2, Y2, eta, N_epochs, lam[i])\n",
    "    # append to lists\n",
    "    wine2.append(log_loss(X2, Y2, d2))\n",
    "    test_wine2.append(log_loss(test_X2, test_Y2, d2))\n",
    "    norm2.append(LA.norm(d2))\n",
    "#plot test error plot\n",
    "plt.plot(lam, wine1, linewidth = 2)\n",
    "plt.plot(lam, wine2, linewidth = 2)\n",
    "plt.xscale('log')\n",
    "plt.legend(['wine1', 'wine2'], loc = 'right')\n",
    "plt.xlabel('lambda log scale')\n",
    "plt.ylabel('loss')\n",
    "plt.title('Training error')\n",
    "plt.show()"
   ]
  },
  {
   "cell_type": "code",
   "execution_count": 252,
   "metadata": {},
   "outputs": [
    {
     "data": {
      "image/png": "[encoded data removed]",
      "text/plain": [
       "<Figure size 432x288 with 1 Axes>"
      ]
     },
     "metadata": {},
     "output_type": "display_data"
    }
   ],
   "source": [
    "# plot testing error plot\n",
    "plt.figure()\n",
    "plt.plot(lam, test_wine1, linewidth = 2)\n",
    "plt.plot(lam, test_wine2, linewidth = 2)\n",
    "plt.xscale('log')\n",
    "plt.legend(['wine1', 'wine2'], loc = 'right')\n",
    "plt.xlabel('lambda log scale')\n",
    "plt.ylabel('loss')\n",
    "plt.title('Testing Error')\n",
    "plt.show()"
   ]
  },
  {
   "cell_type": "code",
   "execution_count": 253,
   "metadata": {
    "scrolled": true
   },
   "outputs": [
    {
     "data": {
      "image/png": "[encoded data removed]",
      "text/plain": [
       "<Figure size 432x288 with 1 Axes>"
      ]
     },
     "metadata": {},
     "output_type": "display_data"
    }
   ],
   "source": [
    "# plot norm plot\n",
    "plt.figure()\n",
    "plt.plot(lam, norm1, linewidth = 2)\n",
    "plt.plot(lam, norm2, linewidth = 2)\n",
    "plt.xscale('log')\n",
    "plt.legend(['wine1', 'wine2'], loc = 'right')\n",
    "plt.xlabel('lambda log scale')\n",
    "plt.ylabel('norm')\n",
    "plt.title('Norm')\n",
    "plt.show()"
   ]
  },
  {
   "cell_type": "code",
   "execution_count": 254,
   "metadata": {},
   "outputs": [
    {
     "data": {
      "text/plain": [
       "[1e-05,\n",
       " 5e-05,\n",
       " 0.00025,\n",
       " 0.00125,\n",
       " 0.00625,\n",
       " 0.03125,\n",
       " 0.15625,\n",
       " 0.78125,\n",
       " 3.90625,\n",
       " 19.53125,\n",
       " 97.65625,\n",
       " 488.28125,\n",
       " 2441.40625,\n",
       " 12207.03125,\n",
       " 61035.15625]"
      ]
     },
     "execution_count": 254,
     "metadata": {},
     "output_type": "execute_result"
    }
   ],
   "source": [
    "lam"
   ]
  },
  {
   "cell_type": "code",
   "execution_count": null,
   "metadata": {},
   "outputs": [],
   "source": []
  },
  {
   "cell_type": "code",
   "execution_count": null,
   "metadata": {},
   "outputs": [],
   "source": []
  }
 ],
 "metadata": {
  "kernelspec": {
   "display_name": "Python 3",
   "language": "python",
   "name": "python3"
  },
  "language_info": {
   "codemirror_mode": {
    "name": "ipython",
    "version": 3
   },
   "file_extension": ".py",
   "mimetype": "text/x-python",
   "name": "python",
   "nbconvert_exporter": "python",
   "pygments_lexer": "ipython3",
   "version": "3.6.5"
  }
 },
 "nbformat": 4,
 "nbformat_minor": 2
}

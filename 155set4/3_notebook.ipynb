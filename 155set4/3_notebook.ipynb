{
 "cells": [
  {
   "cell_type": "markdown",
   "metadata": {},
   "source": [
    "# Problem 3"
   ]
  },
  {
   "cell_type": "markdown",
   "metadata": {},
   "source": [
    "Use this notebook to write your code for problem 3."
   ]
  },
  {
   "cell_type": "code",
   "execution_count": 4,
   "metadata": {},
   "outputs": [],
   "source": [
    "import numpy as np\n",
    "import matplotlib.pyplot as plt\n",
    "%matplotlib inline"
   ]
  },
  {
   "cell_type": "markdown",
   "metadata": {},
   "source": [
    "## 3D - Convolutional network"
   ]
  },
  {
   "cell_type": "markdown",
   "metadata": {},
   "source": [
    "As in problem 2, we have conveniently provided for your use code that loads, preprocesses, and deals with the uglies of the MNIST data."
   ]
  },
  {
   "cell_type": "code",
   "execution_count": 5,
   "metadata": {},
   "outputs": [],
   "source": [
    "# load MNIST data into Keras format\n",
    "import keras\n",
    "from keras.datasets import mnist\n",
    "\n",
    "(x_train, y_train), (x_test, y_test) = mnist.load_data()"
   ]
  },
  {
   "cell_type": "code",
   "execution_count": 6,
   "metadata": {},
   "outputs": [
    {
     "name": "stdout",
     "output_type": "stream",
     "text": [
      "(60000, 28, 28)\n",
      "(10000, 28, 28)\n"
     ]
    }
   ],
   "source": [
    "# look at the shapes\n",
    "print(x_train.shape)\n",
    "print(x_test.shape)"
   ]
  },
  {
   "cell_type": "code",
   "execution_count": 7,
   "metadata": {},
   "outputs": [],
   "source": [
    "# we'll need to one-hot encode the labels\n",
    "y_train = keras.utils.np_utils.to_categorical(y_train)\n",
    "y_test = keras.utils.np_utils.to_categorical(y_test)"
   ]
  },
  {
   "cell_type": "code",
   "execution_count": 8,
   "metadata": {},
   "outputs": [],
   "source": [
    "# don't forget to NORMALIZE\n",
    "x_train = np.divide(x_train, 255)\n",
    "x_test = np.divide(x_test, 255)"
   ]
  },
  {
   "cell_type": "code",
   "execution_count": 9,
   "metadata": {},
   "outputs": [],
   "source": [
    "# we must reshape the X data (add a channel dimension)\n",
    "x_train = x_train.reshape(tuple(list(x_train.shape) + [1]))\n",
    "x_test = x_test.reshape(tuple(list(x_test.shape) + [1]))"
   ]
  },
  {
   "cell_type": "code",
   "execution_count": 10,
   "metadata": {},
   "outputs": [
    {
     "name": "stdout",
     "output_type": "stream",
     "text": [
      "(60000, 28, 28, 1)\n",
      "(10000, 28, 28, 1)\n"
     ]
    }
   ],
   "source": [
    "# look at the shapes\n",
    "print(x_train.shape)\n",
    "print(x_test.shape)"
   ]
  },
  {
   "cell_type": "code",
   "execution_count": 65,
   "metadata": {},
   "outputs": [],
   "source": [
    "from keras.models import Sequential\n",
    "from keras.layers import Dense, Activation, Dropout\n",
    "from keras.layers import Conv2D, MaxPooling2D, Flatten, BatchNormalization\n",
    "from keras import regularizers\n",
    "\n",
    "# sample model\n",
    "# note: what is the difference between 'same' and 'valid' padding?\n",
    "# Take a look at the outputs to understand the difference, or read the Keras documentation!\n",
    "model = Sequential()\n",
    "model.add(Conv2D(8, (3, 3), padding='same',\n",
    "                 input_shape=(28, 28, 1)))\n",
    "keras.layers.BatchNormalization()\n",
    "model.add(Activation('relu'))\n",
    "model.add(MaxPooling2D(pool_size=(2, 2)))\n",
    "model.add(Dropout(0.2))\n",
    "\n",
    "model.add(Conv2D(8, (3, 3), padding='same'))\n",
    "keras.layers.BatchNormalization()\n",
    "model.add(Activation('relu'))\n",
    "model.add(MaxPooling2D(pool_size=(2, 2)))\n",
    "model.add(Dropout(0.2))\n",
    "\n",
    "model.add(Flatten())\n",
    "model.add(Dense(64))\n",
    "model.add(Activation('relu'))\n",
    "model.add(Dense(10))\n",
    "model.add(Activation('softmax'))"
   ]
  },
  {
   "cell_type": "code",
   "execution_count": 66,
   "metadata": {},
   "outputs": [
    {
     "name": "stdout",
     "output_type": "stream",
     "text": [
      "<keras.layers.convolutional.Conv2D object at 0x0000000019029400>\n",
      "(None, 28, 28, 8)\n",
      "<keras.layers.core.Activation object at 0x0000000019029898>\n",
      "(None, 28, 28, 8)\n",
      "<keras.layers.pooling.MaxPooling2D object at 0x00000000190296D8>\n",
      "(None, 14, 14, 8)\n",
      "<keras.layers.core.Dropout object at 0x0000000019029470>\n",
      "(None, 14, 14, 8)\n",
      "<keras.layers.convolutional.Conv2D object at 0x0000000018FCEC50>\n",
      "(None, 14, 14, 8)\n",
      "<keras.layers.core.Activation object at 0x0000000018FCEBA8>\n",
      "(None, 14, 14, 8)\n",
      "<keras.layers.pooling.MaxPooling2D object at 0x0000000018FCEF60>\n",
      "(None, 7, 7, 8)\n",
      "<keras.layers.core.Dropout object at 0x00000000190296A0>\n",
      "(None, 7, 7, 8)\n",
      "<keras.layers.core.Flatten object at 0x000000001904FD30>\n",
      "(None, 392)\n",
      "<keras.layers.core.Dense object at 0x0000000018FCED68>\n",
      "(None, 64)\n",
      "<keras.layers.core.Activation object at 0x000000001904F7F0>\n",
      "(None, 64)\n",
      "<keras.layers.core.Dense object at 0x0000000019093E48>\n",
      "(None, 10)\n",
      "<keras.layers.core.Activation object at 0x0000000019093FD0>\n",
      "(None, 10)\n"
     ]
    }
   ],
   "source": [
    "# why don't we take a look at the layers and outputs\n",
    "# note: `None` in the first dimension means it can take any batch_size!\n",
    "for i in range(len(model.layers)):\n",
    "    layer = model.layers[i]\n",
    "    print(layer)\n",
    "    print(layer.output_shape)"
   ]
  },
  {
   "cell_type": "code",
   "execution_count": 67,
   "metadata": {},
   "outputs": [
    {
     "data": {
      "text/plain": [
       "26466"
      ]
     },
     "execution_count": 67,
     "metadata": {},
     "output_type": "execute_result"
    }
   ],
   "source": [
    "# our model has some # of parameters:\n",
    "model.count_params()"
   ]
  },
  {
   "cell_type": "code",
   "execution_count": 68,
   "metadata": {},
   "outputs": [],
   "source": [
    "# For a multi-class classification problem\n",
    "model.compile(optimizer='adam',\n",
    "              loss='categorical_crossentropy',\n",
    "              metrics=['accuracy'])"
   ]
  },
  {
   "cell_type": "code",
   "execution_count": 69,
   "metadata": {},
   "outputs": [
    {
     "name": "stdout",
     "output_type": "stream",
     "text": [
      "Train on 60000 samples, validate on 10000 samples\n",
      "Epoch 1/10\n",
      "60000/60000 [==============================] - 37s 611us/step - loss: 0.3794 - acc: 0.8811 - val_loss: 0.1145 - val_acc: 0.9630\n",
      "Epoch 2/10\n",
      "60000/60000 [==============================] - 28s 471us/step - loss: 0.1479 - acc: 0.9531 - val_loss: 0.0707 - val_acc: 0.9788\n",
      "Epoch 3/10\n",
      "60000/60000 [==============================] - 37s 612us/step - loss: 0.1082 - acc: 0.9659 - val_loss: 0.0571 - val_acc: 0.9810\n",
      "Epoch 4/10\n",
      "60000/60000 [==============================] - 38s 641us/step - loss: 0.0912 - acc: 0.9706 - val_loss: 0.0472 - val_acc: 0.9846\n",
      "Epoch 5/10\n",
      "60000/60000 [==============================] - 37s 618us/step - loss: 0.0786 - acc: 0.9750 - val_loss: 0.0436 - val_acc: 0.9857\n",
      "Epoch 6/10\n",
      "60000/60000 [==============================] - 41s 681us/step - loss: 0.0725 - acc: 0.9771 - val_loss: 0.0452 - val_acc: 0.9845\n",
      "Epoch 7/10\n",
      "60000/60000 [==============================] - 38s 629us/step - loss: 0.0658 - acc: 0.9786 - val_loss: 0.0391 - val_acc: 0.9870\n",
      "Epoch 8/10\n",
      "60000/60000 [==============================] - 36s 608us/step - loss: 0.0600 - acc: 0.9803 - val_loss: 0.0368 - val_acc: 0.9866\n",
      "Epoch 9/10\n",
      "60000/60000 [==============================] - 32s 530us/step - loss: 0.0589 - acc: 0.9806 - val_loss: 0.0337 - val_acc: 0.9881\n",
      "Epoch 10/10\n",
      "60000/60000 [==============================] - 32s 532us/step - loss: 0.0544 - acc: 0.9825 - val_loss: 0.0354 - val_acc: 0.9884\n"
     ]
    }
   ],
   "source": [
    "# Train the model, iterating on the data in batches of 32 samples\n",
    "history = model.fit(x_train, y_train, epochs=10, batch_size=32,\n",
    "                    validation_data=(x_test, y_test))"
   ]
  },
  {
   "cell_type": "markdown",
   "metadata": {},
   "source": [
    "Above, we output the training loss/accuracy as well as the validation (here, the TEST) loss and accuracy. To confirm that these are right, we can explicitly print out the training and test losses/accuracies."
   ]
  },
  {
   "cell_type": "code",
   "execution_count": 70,
   "metadata": {},
   "outputs": [
    {
     "data": {
      "text/plain": [
       "['loss', 'acc']"
      ]
     },
     "execution_count": 70,
     "metadata": {},
     "output_type": "execute_result"
    }
   ],
   "source": [
    "model.metrics_names"
   ]
  },
  {
   "cell_type": "code",
   "execution_count": 71,
   "metadata": {
    "scrolled": true
   },
   "outputs": [
    {
     "name": "stdout",
     "output_type": "stream",
     "text": [
      "60000/60000 [==============================] - 12s 194us/step\n"
     ]
    },
    {
     "data": {
      "text/plain": [
       "[0.023339019081407848, 0.9930833333333333]"
      ]
     },
     "execution_count": 71,
     "metadata": {},
     "output_type": "execute_result"
    }
   ],
   "source": [
    "model.evaluate(x=x_train, y=y_train)"
   ]
  },
  {
   "cell_type": "code",
   "execution_count": 72,
   "metadata": {},
   "outputs": [
    {
     "name": "stdout",
     "output_type": "stream",
     "text": [
      "10000/10000 [==============================] - 2s 206us/step\n"
     ]
    },
    {
     "data": {
      "text/plain": [
       "[0.03542531600112561, 0.9884]"
      ]
     },
     "execution_count": 72,
     "metadata": {},
     "output_type": "execute_result"
    }
   ],
   "source": [
    "model.evaluate(x=x_test, y=y_test)"
   ]
  },
  {
   "cell_type": "code",
   "execution_count": null,
   "metadata": {},
   "outputs": [],
   "source": []
  },
  {
   "cell_type": "code",
   "execution_count": null,
   "metadata": {},
   "outputs": [],
   "source": []
  }
 ],
 "metadata": {
  "kernelspec": {
   "display_name": "Python 3",
   "language": "python",
   "name": "python3"
  },
  "language_info": {
   "codemirror_mode": {
    "name": "ipython",
    "version": 3
   },
   "file_extension": ".py",
   "mimetype": "text/x-python",
   "name": "python",
   "nbconvert_exporter": "python",
   "pygments_lexer": "ipython3",
   "version": "3.6.5"
  }
 },
 "nbformat": 4,
 "nbformat_minor": 1
}

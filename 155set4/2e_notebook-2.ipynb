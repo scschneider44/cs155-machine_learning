{
 "cells": [
  {
   "cell_type": "code",
   "execution_count": 145,
   "metadata": {},
   "outputs": [],
   "source": [
    "import numpy as np \n",
    "import tensorflow as tf \n",
    "import keras\n",
    "from keras.models import Sequential\n",
    "from keras.layers.core import Dense, Activation, Flatten, Dropout"
   ]
  },
  {
   "cell_type": "code",
   "execution_count": 146,
   "metadata": {},
   "outputs": [],
   "source": [
    "## Importing the MNIST dataset using Keras\n",
    "from keras.datasets import mnist\n",
    "(X_train, y_train), (X_test, y_test) = mnist.load_data()"
   ]
  },
  {
   "cell_type": "code",
   "execution_count": 147,
   "metadata": {},
   "outputs": [
    {
     "data": {
      "image/png": "[encoded data removed]",
      "text/plain": [
       "<Figure size 432x288 with 1 Axes>"
      ]
     },
     "metadata": {},
     "output_type": "display_data"
    }
   ],
   "source": [
    "## Visualizing an image (optional)\n",
    "import matplotlib.pyplot as plt\n",
    "plt.imshow(X_train[0], cmap=plt.get_cmap('gray'))\n",
    "plt.show()"
   ]
  },
  {
   "cell_type": "code",
   "execution_count": 148,
   "metadata": {},
   "outputs": [],
   "source": [
    "## In your homework you should transform each input data point\n",
    "## into a single vector here and should transform the \n",
    "## labels into a one hot vector using np_utils.to_categorical\n",
    "y_train = keras.utils.np_utils.to_categorical(y_train)\n",
    "y_test = keras.utils.np_utils.to_categorical(y_test)\n",
    "## Also if you choose to do any data normalization (recommended)\n",
    "## you should do it here\n",
    "X_tr = []\n",
    "X_te = []\n",
    "X_train = np.divide(X_train, 255)\n",
    "X_test = np.divide(X_test, 255)\n",
    "for pt in X_train:\n",
    "    pt = pt.reshape(784)\n",
    "    X_tr.append(pt)\n",
    "for pt in X_test:\n",
    "    pt = pt.reshape(784)\n",
    "    X_te.append(pt)\n",
    "X_train = np.asarray(X_tr)\n",
    "X_test = np.asarray(X_te)"
   ]
  },
  {
   "cell_type": "code",
   "execution_count": 149,
   "metadata": {},
   "outputs": [
    {
     "data": {
      "text/plain": [
       "(60000, 784)"
      ]
     },
     "execution_count": 149,
     "metadata": {},
     "output_type": "execute_result"
    }
   ],
   "source": [
    "X_train.shape"
   ]
  },
  {
   "cell_type": "code",
   "execution_count": 150,
   "metadata": {},
   "outputs": [],
   "source": [
    "## Create your own model here given the constraints in the problem\n",
    "model = Sequential()\n",
    "model.add(Dense(120, input_shape = (784,)))\n",
    "model.add(Activation('relu'))\n",
    "model.add(Dropout(0.1))\n",
    "model.add(Dense(40))\n",
    "model.add(Activation('relu'))\n",
    "model.add(Dense(40))\n",
    "model.add(Activation('relu'))"
   ]
  },
  {
   "cell_type": "code",
   "execution_count": 151,
   "metadata": {},
   "outputs": [],
   "source": [
    "## Once you one-hot encode the data labels, the line below should be predicting probabilities of each of the 10 classes\n",
    "## e.g. it should read: model.add(Dense(10)), not model.add(Dense(1))\n",
    "model.add(Dense(10))\n",
    "model.add(Activation('softmax'))"
   ]
  },
  {
   "cell_type": "code",
   "execution_count": 152,
   "metadata": {},
   "outputs": [
    {
     "name": "stdout",
     "output_type": "stream",
     "text": [
      "_________________________________________________________________\n",
      "Layer (type)                 Output Shape              Param #   \n",
      "=================================================================\n",
      "dense_54 (Dense)             (None, 120)               94200     \n",
      "_________________________________________________________________\n",
      "activation_54 (Activation)   (None, 120)               0         \n",
      "_________________________________________________________________\n",
      "dropout_16 (Dropout)         (None, 120)               0         \n",
      "_________________________________________________________________\n",
      "dense_55 (Dense)             (None, 40)                4840      \n",
      "_________________________________________________________________\n",
      "activation_55 (Activation)   (None, 40)                0         \n",
      "_________________________________________________________________\n",
      "dense_56 (Dense)             (None, 40)                1640      \n",
      "_________________________________________________________________\n",
      "activation_56 (Activation)   (None, 40)                0         \n",
      "_________________________________________________________________\n",
      "dense_57 (Dense)             (None, 10)                410       \n",
      "_________________________________________________________________\n",
      "activation_57 (Activation)   (None, 10)                0         \n",
      "=================================================================\n",
      "Total params: 101,090\n",
      "Trainable params: 101,090\n",
      "Non-trainable params: 0\n",
      "_________________________________________________________________\n"
     ]
    }
   ],
   "source": [
    "## Printing a summary of the layers and weights in your model\n",
    "model.summary()"
   ]
  },
  {
   "cell_type": "code",
   "execution_count": 153,
   "metadata": {},
   "outputs": [],
   "source": [
    "## In the line below we have specified the loss function as 'mse' (Mean Squared Error) because in the above code we did not one-hot encode the labels.\n",
    "## In your implementation, since you are one-hot encoding the labels, you should use 'categorical_crossentropy' as your loss.\n",
    "## You will likely have the best results with RMS prop or Adam as your optimizer.  In the line below we use Adadelta\n",
    "model.compile(loss='categorical_crossentropy',optimizer='Adam', metrics=['accuracy'])"
   ]
  },
  {
   "cell_type": "code",
   "execution_count": 164,
   "metadata": {},
   "outputs": [
    {
     "name": "stdout",
     "output_type": "stream",
     "text": [
      "Epoch 1/10\n",
      "60000/60000 [==============================] - 8s 129us/step - loss: 0.0168 - acc: 0.9948\n",
      "Epoch 2/10\n",
      "60000/60000 [==============================] - 12s 203us/step - loss: 0.0167 - acc: 0.9947\n",
      "Epoch 3/10\n",
      "60000/60000 [==============================] - 17s 287us/step - loss: 0.0160 - acc: 0.9950\n",
      "Epoch 4/10\n",
      "60000/60000 [==============================] - 16s 266us/step - loss: 0.0148 - acc: 0.9951\n",
      "Epoch 5/10\n",
      "60000/60000 [==============================] - 15s 242us/step - loss: 0.0155 - acc: 0.9952\n",
      "Epoch 6/10\n",
      "60000/60000 [==============================] - 12s 194us/step - loss: 0.0146 - acc: 0.9954\n",
      "Epoch 7/10\n",
      "60000/60000 [==============================] - 12s 197us/step - loss: 0.0147 - acc: 0.99530s - loss\n",
      "Epoch 8/10\n",
      "60000/60000 [==============================] - 15s 242us/step - loss: 0.0149 - acc: 0.9953\n",
      "Epoch 9/10\n",
      "60000/60000 [==============================] - 15s 256us/step - loss: 0.0150 - acc: 0.9953\n",
      "Epoch 10/10\n",
      "60000/60000 [==============================] - 16s 270us/step - loss: 0.0127 - acc: 0.9963\n"
     ]
    }
   ],
   "source": [
    "fit = model.fit(X_train, y_train, batch_size=32, epochs=10,\n",
    "    verbose=1)"
   ]
  },
  {
   "cell_type": "code",
   "execution_count": 165,
   "metadata": {},
   "outputs": [
    {
     "name": "stdout",
     "output_type": "stream",
     "text": [
      "Test score: 0.09931705238209015\n",
      "Test accuracy: 0.9806\n"
     ]
    }
   ],
   "source": [
    "## Printing the accuracy of our model, according to the loss function specified in model.compile above\n",
    "score = model.evaluate(X_test, y_test, verbose=0)\n",
    "print('Test score:', score[0])\n",
    "print('Test accuracy:', score[1])"
   ]
  },
  {
   "cell_type": "code",
   "execution_count": null,
   "metadata": {},
   "outputs": [],
   "source": []
  }
 ],
 "metadata": {
  "kernelspec": {
   "display_name": "Python 3",
   "language": "python",
   "name": "python3"
  },
  "language_info": {
   "codemirror_mode": {
    "name": "ipython",
    "version": 3
   },
   "file_extension": ".py",
   "mimetype": "text/x-python",
   "name": "python",
   "nbconvert_exporter": "python",
   "pygments_lexer": "ipython3",
   "version": "3.6.5"
  }
 },
 "nbformat": 4,
 "nbformat_minor": 2
}
